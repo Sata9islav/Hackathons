{
 "cells": [
  {
   "cell_type": "markdown",
   "id": "322e39a3",
   "metadata": {},
   "source": [
    "<div class=\"alert alert-info\" style=\"border-radius: 15px; box-shadow: 4px 4px 4px; border: 1px solid \">\n",
    "<font size=\"5\"><b><center>Yandex Hackathon: Preprocessing by Team № 4</center></b></font>"
   ]
  },
  {
   "cell_type": "markdown",
   "id": "0a56f91d",
   "metadata": {},
   "source": [
    "**Данный ноутбук посвящён предообработке данных, в нём будет указана методика по которой из сырых данных можно получить данные для обучения моделей. При обработке данных необходимо учесть несколько пунктов:**\n",
    "\n",
    " - **Выбрана двухуровневая модель (кластеризация + классификация). При этом кластеризация должна будет разбить товары на лкастеры, а поэтому должна учиться на всех доступных товарах, в то время как классификация может учиться только на размеченом датасете**\n",
    "  - **При исследовании данных, было установлено, что в данных есть противоречия по целевому признаку: для одного и того же товара могут быть использованны разные типы коробок. Данный момент необходимо будет обработать, поскольку иначе модель не научится корректно выбирать правильные ответы**\n",
    " - **Карготипы товаров указаны в виде кодов и их необходимо преобразовать в удобный для ML моделей вид**"
   ]
  },
  {
   "cell_type": "markdown",
   "id": "3200dca5",
   "metadata": {},
   "source": [
    "**Начнём с импора требуемых библиотек и указаний путей**"
   ]
  },
  {
   "cell_type": "code",
   "execution_count": 1,
   "id": "7350fbd3",
   "metadata": {},
   "outputs": [
    {
     "data": {
      "application/vnd.jupyter.widget-view+json": {
       "model_id": "2e66f809d15d4af1b1262181524e403f",
       "version_major": 2,
       "version_minor": 0
      },
      "text/plain": [
       "0it [00:00, ?it/s]"
      ]
     },
     "metadata": {},
     "output_type": "display_data"
    }
   ],
   "source": [
    "import pandas as pd\n",
    "import numpy as np\n",
    "\n",
    "from tqdm import tqdm, notebook\n",
    "\n",
    "import os.path\n",
    "import os\n",
    "import pickle\n",
    "import joblib\n",
    "import sys\n",
    "\n",
    "import scipy\n",
    "from scipy.sparse import csr_matrix\n",
    "\n",
    "from sklearn.feature_extraction.text import TfidfVectorizer\n",
    "from sklearn.preprocessing import RobustScaler\n",
    "\n",
    "import warnings\n",
    "\n",
    "warnings.filterwarnings(\"ignore\")\n",
    "notebook.tqdm().pandas()"
   ]
  },
  {
   "cell_type": "markdown",
   "id": "94f07b9b",
   "metadata": {},
   "source": [
    "**Укажем пути к \"сырым\" данным**"
   ]
  },
  {
   "cell_type": "code",
   "execution_count": 2,
   "id": "d07bfed9",
   "metadata": {},
   "outputs": [],
   "source": [
    "cwd = os.getcwd()"
   ]
  },
  {
   "cell_type": "code",
   "execution_count": 3,
   "id": "ae9098b0",
   "metadata": {},
   "outputs": [
    {
     "data": {
      "text/plain": [
       "'/Users/greygreywolf/Documents/yandex_market_hackaton_team_4'"
      ]
     },
     "execution_count": 3,
     "metadata": {},
     "output_type": "execute_result"
    }
   ],
   "source": [
    "cwd"
   ]
  },
  {
   "cell_type": "code",
   "execution_count": 4,
   "id": "f324eb08",
   "metadata": {},
   "outputs": [],
   "source": [
    "PATH_DATA = cwd + '/initial_data/data.csv'\n",
    "PATH_SKU = cwd + '/initial_data/sku.csv'\n",
    "PATH_SKU_CARGOTYPES = cwd + '/initial_data/sku_cargotypes.csv'\n",
    "PATH_CARTON = cwd + '/initial_data/carton.csv'\n",
    "PATH_CARGOTYPES_INFO = cwd + '/initial_data/cargotype_info.csv'\n",
    "PATH_CARTON_PRICE = cwd + '/initial_data/carton_price.xlsx'"
   ]
  },
  {
   "cell_type": "markdown",
   "id": "e65968ff",
   "metadata": {},
   "source": [
    "**Укажем пути к обработанным данным**"
   ]
  },
  {
   "cell_type": "code",
   "execution_count": 5,
   "id": "79e58ed2",
   "metadata": {},
   "outputs": [],
   "source": [
    "PATH_TO_SAVE_DF_FOR_CLASSIFIC = cwd + '/preprocessed_data/df_for_classific.csv'\n",
    "PATH_TO_SAVE_REC_PRED = cwd + '/preprocessed_data/prediction_rec_sys.csv'\n",
    "PATH_TO_SAVE_SPARSE_FOR_CLUSTER = cwd + '/preprocessed_data/sparse_cluster.npz'\n",
    "PATH_TO_SAVE_SPARSE_FOR_CLUSTER_TO_CLASSIF = cwd + '/preprocessed_data/sparse_cluster_to_classif.npz'"
   ]
  },
  {
   "cell_type": "markdown",
   "id": "5c83600d",
   "metadata": {},
   "source": [
    "**Укажем пути для сохранения нормализаторов и векторайзера**"
   ]
  },
  {
   "cell_type": "code",
   "execution_count": 6,
   "id": "6619ebac",
   "metadata": {},
   "outputs": [],
   "source": [
    "PATH_TO_SAVE_SCALER_CLASIFIC = cwd + '/for_docker_images/src/scalers/scaler_rb_for_clusific.bin'\n",
    "PATH_TO_SAVE_SCALER_FOR_CLUSTER = cwd + '/for_docker_images/src/scalers/scaler_rb_for_cluster.bin'\n",
    "PATH_TO_SAVE_TFIDF_VECTORIZER = cwd + '/for_docker_images/src/vectorizers/tfidf_vectorizer.bin'"
   ]
  },
  {
   "cell_type": "markdown",
   "id": "b8dba9f2",
   "metadata": {},
   "source": [
    "## Основной датасет"
   ]
  },
  {
   "cell_type": "markdown",
   "id": "e01161c6",
   "metadata": {},
   "source": [
    "**Откроем основной датасет, датасет с sku, датасет с карготипами sku и размерами коробок**"
   ]
  },
  {
   "cell_type": "code",
   "execution_count": 7,
   "id": "6592a3fe",
   "metadata": {},
   "outputs": [],
   "source": [
    "df_data = pd.read_csv(PATH_DATA)\n",
    "df_sku = pd.read_csv(PATH_SKU, index_col=0)\n",
    "df_sku_cargotypes = pd.read_csv(PATH_SKU_CARGOTYPES)\n",
    "df_carton = pd.read_csv(PATH_CARTON)"
   ]
  },
  {
   "cell_type": "markdown",
   "id": "aaaadc47",
   "metadata": {},
   "source": [
    "**Выведем размеры полученных датасетов**"
   ]
  },
  {
   "cell_type": "code",
   "execution_count": 8,
   "id": "d89ced76",
   "metadata": {},
   "outputs": [
    {
     "name": "stdout",
     "output_type": "stream",
     "text": [
      "(325623, 15)\n",
      "(6385961, 4)\n",
      "(21053152, 3)\n",
      "(29, 5)\n"
     ]
    }
   ],
   "source": [
    "print(df_data.shape) \n",
    "print(df_sku.shape)\n",
    "print(df_sku_cargotypes.shape)\n",
    "print(df_carton.shape)"
   ]
  },
  {
   "cell_type": "markdown",
   "id": "3b55df69",
   "metadata": {},
   "source": [
    "**Упорядочим габаритные размеры от меньшего к большему и почистим выбросы.**"
   ]
  },
  {
   "cell_type": "code",
   "execution_count": 9,
   "id": "f2639780",
   "metadata": {},
   "outputs": [],
   "source": [
    "def cleaning_sku(df):\n",
    "    df['list_demensions'] = df.progress_apply(lambda x: sorted([x['a'], x['b'], x['c']]), axis=1)\n",
    "    df['a'] = df.progress_apply(lambda x: x['list_demensions'][0], axis=1)\n",
    "    df['b'] = df.progress_apply(lambda x: x['list_demensions'][1], axis=1)\n",
    "    df['c'] = df.progress_apply(lambda x: x['list_demensions'][2], axis=1)\n",
    "    df = df[df['a']<175]\n",
    "    df = df[df['b']<190]\n",
    "    df = df[df['c']<500]\n",
    "    return df"
   ]
  },
  {
   "cell_type": "code",
   "execution_count": 10,
   "id": "25af700e",
   "metadata": {},
   "outputs": [
    {
     "data": {
      "application/vnd.jupyter.widget-view+json": {
       "model_id": "99a244b952a3429f98a8e180a1444aa6",
       "version_major": 2,
       "version_minor": 0
      },
      "text/plain": [
       "  0%|          | 0/6385961 [00:00<?, ?it/s]"
      ]
     },
     "metadata": {},
     "output_type": "display_data"
    },
    {
     "data": {
      "application/vnd.jupyter.widget-view+json": {
       "model_id": "80b0dfe86b2e4dcc8b5c4dc199eafa24",
       "version_major": 2,
       "version_minor": 0
      },
      "text/plain": [
       "  0%|          | 0/6385961 [00:00<?, ?it/s]"
      ]
     },
     "metadata": {},
     "output_type": "display_data"
    },
    {
     "data": {
      "application/vnd.jupyter.widget-view+json": {
       "model_id": "26f7495c69c744708e3b3415ad6666a4",
       "version_major": 2,
       "version_minor": 0
      },
      "text/plain": [
       "  0%|          | 0/6385961 [00:00<?, ?it/s]"
      ]
     },
     "metadata": {},
     "output_type": "display_data"
    },
    {
     "data": {
      "application/vnd.jupyter.widget-view+json": {
       "model_id": "ef59119241ef42a9a560f9631f640af2",
       "version_major": 2,
       "version_minor": 0
      },
      "text/plain": [
       "  0%|          | 0/6385961 [00:00<?, ?it/s]"
      ]
     },
     "metadata": {},
     "output_type": "display_data"
    }
   ],
   "source": [
    "df_sku = cleaning_sku(df_sku)"
   ]
  },
  {
   "cell_type": "markdown",
   "id": "97a02902",
   "metadata": {},
   "source": [
    "**Размер df_sku после чистки**"
   ]
  },
  {
   "cell_type": "code",
   "execution_count": 11,
   "id": "2341d416",
   "metadata": {},
   "outputs": [
    {
     "name": "stdout",
     "output_type": "stream",
     "text": [
      "(6384291, 5)\n"
     ]
    }
   ],
   "source": [
    "print(df_sku.shape)"
   ]
  },
  {
   "cell_type": "markdown",
   "id": "be3b40e4",
   "metadata": {},
   "source": [
    "**Рассчитаем объём для каждого товара**"
   ]
  },
  {
   "cell_type": "code",
   "execution_count": 12,
   "id": "276cedf8",
   "metadata": {},
   "outputs": [],
   "source": [
    "df_sku['volume'] = df_sku['a'] * df_sku['b'] * df_sku['c']"
   ]
  },
  {
   "cell_type": "markdown",
   "id": "9b81d108",
   "metadata": {},
   "source": [
    "**Добавим столбец указываюший на отсутствие размеров**"
   ]
  },
  {
   "cell_type": "code",
   "execution_count": 13,
   "id": "e9130aff",
   "metadata": {},
   "outputs": [],
   "source": [
    "df_sku['no_size'] = ((df_sku['a'].values==0) & \n",
    "                     (df_sku['b'].values==0) & \n",
    "                     (df_sku['c'].values==0)).astype('int')"
   ]
  },
  {
   "cell_type": "markdown",
   "id": "b1f717db",
   "metadata": {},
   "source": [
    "**В первоначальном датасете оставим только те, которые есть в изменённом sku**"
   ]
  },
  {
   "cell_type": "code",
   "execution_count": 14,
   "id": "bf30e545",
   "metadata": {},
   "outputs": [],
   "source": [
    "df_data = df_data[df_data['sku'].isin(df_sku['sku'])]"
   ]
  },
  {
   "cell_type": "markdown",
   "id": "5f742752",
   "metadata": {},
   "source": [
    "**Почистим датасет от товаров с нулевым весом**"
   ]
  },
  {
   "cell_type": "code",
   "execution_count": 15,
   "id": "3d117d14",
   "metadata": {},
   "outputs": [],
   "source": [
    "df_data = df_data[df_data['goods_wght']!=0]"
   ]
  },
  {
   "cell_type": "markdown",
   "id": "ebd1114a",
   "metadata": {},
   "source": [
    "**Выведем получившийся размер датасета**"
   ]
  },
  {
   "cell_type": "code",
   "execution_count": 16,
   "id": "81422da7",
   "metadata": {},
   "outputs": [
    {
     "name": "stdout",
     "output_type": "stream",
     "text": [
      "(314755, 15)\n"
     ]
    }
   ],
   "source": [
    "print(df_data.shape) "
   ]
  },
  {
   "cell_type": "markdown",
   "id": "a638ab74",
   "metadata": {},
   "source": [
    "**При обработке заказа, нам потребуется обучить модель группировать товары вместе и при этом корректно прогнозировать коробку. Однако для правильного прогноза требуется больше данных, чем есть в нашем распоряжении (нужно точно знать сколько штук каждого товара и в какие упаковки было упаковано в каждом заказе). Поэтому было принято решение обучить модель подбирать конкретную коробку под конкретный айтем, при этом при обучении не даватьь модели sku, а только указывать весо-габаритные характеристики и метрицу карготипов. В таком случае модель научится распределять товары по их характеристикам, а не по sku. А товары будут группироваться на основе класстеризации при помощи отдельного алгоритма, их характеристики будут объединяться и подаваться на вход модели как отдельный товар. Поэтому необходимо преобразовать датасет, чтобы он корректно предиктил требуемые упаковки.**"
   ]
  },
  {
   "cell_type": "markdown",
   "id": "27c87419",
   "metadata": {},
   "source": [
    "**Сделаем выборку по датасету, чтобы одному sku соответствовало 1 значение упаковки. Для этого:** \n",
    "\n",
    " - **в функции cleaning_data:**   \n",
    "     - **посчитаем количество коробок конкретного типа для каждого sku, которые вбирал упаковщих (count_sku_cart)**\n",
    "     - **посчитаем общество количество коробок всех типа для каждого sku, которые вбирал упаковщих (count_sku_all)**\n",
    "     - **рассчитаем для каждого сочетания конкретного типа коробки с sku, вероятность того, что упаковщих выбирает именно её (perc_carton = count_sku_cart / count_sku_all)**\n",
    "     - **посчитаем объём коробок перемножив их габариты из df_cart**\n",
    "     - **вызовем функцию get_one_carton**  \n",
    "     \n",
    " - **в функции get_one_carton:**               \n",
    "     - **Рассчитаем уникальные вхождения для каждого типа товара**\n",
    "     - **Для товаров у которых есть разные вхождения выбираем те коробки у которых вероятность вхождения максимальна (например если было 10 коробок и при их упаковки были выбраны 2 упаковки одного типа, 1 упаковка другого типа и 6 упаковок третьего, т.е. вероятности равны 0,2, 0,1 и 0,6 соответственно, то для рекомендаций будет выбран третий тип упаковок)**\n",
    "     - **При этом необходимо отсортировать те коробки у которых дублируется максимальная частота вхождений их потребуется обработать отдельно**\n",
    "     - **Для товаров у которых одинаковая частота вхождения коробок будем выбирать ту, у которой  наименьший объём. Данное решение было принято в связи с тем, что для одного и того же товара объём коробок может отличаться в 4 раза и более (вероятнее всего в большую коробку складывали несколько экземляров товара, но мы не знаем сколько штук), поэтому с целью оптимизации будем брать наименьшую упаковку.**"
   ]
  },
  {
   "cell_type": "code",
   "execution_count": 17,
   "id": "6554adf9",
   "metadata": {},
   "outputs": [],
   "source": [
    "def get_one_carton(df_cart, name_column):\n",
    "    #рассчёт уникальных вхождений вероятностей для каждого товара\n",
    "    df_perc_car = df_cart.groupby(['sku', 'perc_carton'])['count_sku_cart'].agg('count').reset_index(drop=False)\n",
    "    dict_count_perc = {sku: df_perc_car[df_perc_car['sku']==sku]['sku'].count() for sku in df_perc_car['sku'].unique()}    \n",
    "    df_cart['count_perc'] = df_cart['sku'].map(dict_count_perc)\n",
    "    \n",
    "    # Выбор для товаров у которых есть разные вхождения\n",
    "    df = df_cart[df_cart['count_perc']!=1]\n",
    "    df = df.groupby('sku')['perc_carton'].agg('max').reset_index(drop=False)\n",
    "    df_final = df.merge(df_cart[['sku', 'perc_carton', name_column, 'volume']], how='left', on=['sku', 'perc_carton'])\n",
    "    # Обработка тех у кого дублируются максимальные вхождения\n",
    "    dupl_sku = df_final[df_final['sku'].duplicated()]['sku']\n",
    "    df_dupl_max = df_final[df_final['sku'].isin(dupl_sku)]\n",
    "    df_final = df_final[~df_final['sku'].isin(dupl_sku)]\n",
    "    \n",
    "    # Выбор для товаров с одинаковой частотой вхождения\n",
    "    df = df_cart[df_cart['count_perc']==1]\n",
    "    # Добавим дублирующиеся максимальные вхождения\n",
    "    df = pd.concat((df, df_dupl_max), axis=0)\n",
    "    df = df.groupby('sku')['volume'].agg('min').reset_index(drop=False)\n",
    "    df = df.merge(df_cart[['sku', 'perc_carton', 'volume', name_column]], how='left', on=['sku', 'volume'])\n",
    "    df_final = pd.concat((df_final, df), axis=0)\n",
    "    return df_final[['sku', name_column]]"
   ]
  },
  {
   "cell_type": "code",
   "execution_count": 18,
   "id": "9cbfd687",
   "metadata": {},
   "outputs": [],
   "source": [
    "def cleaning_data(df_data_in, df_carton_in, name_column):\n",
    "    df_cart = df_carton_in.copy(deep=True)\n",
    "    selected_carton_sku = df_data_in.groupby(['sku', name_column])['sku'].agg('count')\n",
    "    df_sel_cart_sku = (pd.DataFrame(selected_carton_sku).\n",
    "                              rename(columns={'sku':'count_sku_cart'}).\n",
    "                              reset_index(drop=False))\n",
    "    df_count_sku = (pd.DataFrame(df_data_in.groupby('sku')['sku'].agg('count')).\n",
    "                    rename(columns={'sku': 'count_sku_all'}).\n",
    "                    reset_index(drop=False))\n",
    "    df_sel_cart_sku = df_sel_cart_sku.merge(df_count_sku, how='left', on='sku')\n",
    "\n",
    "    df_sel_cart_sku['perc_carton'] = df_sel_cart_sku['count_sku_cart'] / df_sel_cart_sku['count_sku_all']\n",
    "\n",
    "    df_cart['volume'] = df_cart['LENGTH'] * df_cart['WIDTH'] * df_cart['HEIGHT']\n",
    "    df_cart = df_cart.rename(columns={'CARTONTYPE': name_column})\n",
    "\n",
    "    df_sel_cart_sku = df_sel_cart_sku.merge(df_cart[[name_column, 'volume']], how='left', on=name_column)\n",
    "    \n",
    "    return get_one_carton(df_sel_cart_sku, name_column)"
   ]
  },
  {
   "cell_type": "code",
   "execution_count": 19,
   "id": "05f0b3b4",
   "metadata": {},
   "outputs": [
    {
     "name": "stdout",
     "output_type": "stream",
     "text": [
      "CPU times: user 17min 48s, sys: 6.41 s, total: 17min 54s\n",
      "Wall time: 18min 9s\n"
     ]
    }
   ],
   "source": [
    "%%time\n",
    "df_cleaned = cleaning_data(df_data, df_carton, 'selected_carton')"
   ]
  },
  {
   "cell_type": "markdown",
   "id": "aa2ea785",
   "metadata": {},
   "source": [
    "**Выведем размерность итогового датасета**"
   ]
  },
  {
   "cell_type": "code",
   "execution_count": 20,
   "id": "2ffd71a0",
   "metadata": {},
   "outputs": [
    {
     "data": {
      "text/plain": [
       "(81149, 2)"
      ]
     },
     "execution_count": 20,
     "metadata": {},
     "output_type": "execute_result"
    }
   ],
   "source": [
    "df_cleaned.shape"
   ]
  },
  {
   "cell_type": "markdown",
   "id": "cbdc5f1c",
   "metadata": {},
   "source": [
    "**Посмотрим количество получившихся упаковок**"
   ]
  },
  {
   "cell_type": "code",
   "execution_count": 21,
   "id": "c7057f6a",
   "metadata": {},
   "outputs": [
    {
     "data": {
      "text/plain": [
       "MYB        20733\n",
       "MYC        14986\n",
       "MYA         8053\n",
       "MYD         6970\n",
       "NONPACK     6591\n",
       "YMC         4525\n",
       "STRETCH     3775\n",
       "YMA         3126\n",
       "YMG         2893\n",
       "YMF         2735\n",
       "YMW         2500\n",
       "MYE         2286\n",
       "YME         1273\n",
       "MYF          348\n",
       "YML          251\n",
       "YMX          103\n",
       "YMB            1\n",
       "Name: selected_carton, dtype: int64"
      ]
     },
     "execution_count": 21,
     "metadata": {},
     "output_type": "execute_result"
    }
   ],
   "source": [
    "df_cleaned['selected_carton'].value_counts()"
   ]
  },
  {
   "cell_type": "markdown",
   "id": "b17000a5",
   "metadata": {},
   "source": [
    "**Удалим тип упаковки, который встреччается только 1 раза, модель не научится его корректно предсказывать**"
   ]
  },
  {
   "cell_type": "code",
   "execution_count": 22,
   "id": "c9d6b928",
   "metadata": {},
   "outputs": [],
   "source": [
    "df_cleaned = df_cleaned[df_cleaned['selected_carton']!='YMB']"
   ]
  },
  {
   "cell_type": "markdown",
   "id": "b5ae53b0",
   "metadata": {},
   "source": [
    "**Проведём аналогичный рассчёт для столбца с рекомендованной упаковкой. Он нам потребуется для определения качества действующей модели.**"
   ]
  },
  {
   "cell_type": "code",
   "execution_count": 23,
   "id": "2afeac77",
   "metadata": {},
   "outputs": [
    {
     "name": "stdout",
     "output_type": "stream",
     "text": [
      "CPU times: user 16min 53s, sys: 3.43 s, total: 16min 56s\n",
      "Wall time: 17min 4s\n"
     ]
    }
   ],
   "source": [
    "%%time\n",
    "df_rec = cleaning_data(df_data, df_carton, 'recommended_cartontype')"
   ]
  },
  {
   "cell_type": "code",
   "execution_count": 24,
   "id": "ffac7efa",
   "metadata": {},
   "outputs": [],
   "source": [
    "df_rec = df_rec.merge(df_cleaned, how='inner', on='sku')"
   ]
  },
  {
   "cell_type": "markdown",
   "id": "caf06f31",
   "metadata": {},
   "source": [
    "## Матрица карготипов (TfIdf)"
   ]
  },
  {
   "cell_type": "markdown",
   "id": "21499580",
   "metadata": {},
   "source": [
    "**В данных приведены сведения о каргоипах товара, однако их необходимо преобразовать в вид, который сможет воспринимать Ml модель. Самым протым и очевидным вариантом было бы создать матрицу каргоипов по принципу OneHotEncoding, но такой подход не учитывал бы частоту встречания того или иного признака, поэтому было принято решения использова TfIdf**"
   ]
  },
  {
   "cell_type": "markdown",
   "id": "e145fa28",
   "metadata": {},
   "source": [
    "**Создадим матрицу tfidf и присоединим к нашему датафрейму**"
   ]
  },
  {
   "cell_type": "code",
   "execution_count": 25,
   "id": "ab031860",
   "metadata": {},
   "outputs": [],
   "source": [
    "def forming_df_for_tfidf(df_in):\n",
    "    #функция преобразует столбец в cargotype в формат string, и для каждого sku формирует строку из всех его карготипов\n",
    "    df = df_in.copy(deep=True)\n",
    "    df['cargotype'] = df['cargotype'].astype('str')\n",
    "    df_for_tfidf = df[['sku', 'cargotype']]\n",
    "    df_for_tfidf['cargotype'] = df_for_tfidf['cargotype'] + ' '\n",
    "    df_for_tfidf = df_for_tfidf.groupby('sku')['cargotype'].agg('sum').reset_index(drop=False)\n",
    "    return df_for_tfidf"
   ]
  },
  {
   "cell_type": "code",
   "execution_count": 26,
   "id": "7b0d26a3",
   "metadata": {},
   "outputs": [],
   "source": [
    "df_tfidf = forming_df_for_tfidf(df_sku_cargotypes)"
   ]
  },
  {
   "cell_type": "code",
   "execution_count": 27,
   "id": "50b64f45",
   "metadata": {},
   "outputs": [],
   "source": [
    "def get_tfidf_dataframe(df, path_to_save_vect):\n",
    "    #функция производит векторизацию признаков при помощи tfidf и сохраняет обученный tfidf\n",
    "    tfidf = TfidfVectorizer()\n",
    "    tfidf_matrix = tfidf.fit_transform(df['cargotype'])\n",
    "    dict_for_columns = {i[1]:i[0] for i in tfidf.vocabulary_.items()}\n",
    "    new_df = pd.DataFrame.sparse.from_spmatrix(tfidf_matrix).rename(columns=dict_for_columns)\n",
    "    new_df.insert(0, 'sku', df['sku'])\n",
    "    pickle.dump(tfidf, open(path_to_save_vect, \"wb\"))\n",
    "    return new_df"
   ]
  },
  {
   "cell_type": "code",
   "execution_count": 28,
   "id": "06230d9a",
   "metadata": {},
   "outputs": [],
   "source": [
    "df_tfidf = get_tfidf_dataframe(df_tfidf, PATH_TO_SAVE_TFIDF_VECTORIZER)"
   ]
  },
  {
   "cell_type": "markdown",
   "id": "2411cb5f",
   "metadata": {},
   "source": [
    "**Присоединим матрицу с карготипами к датасету с габаритами sku.**"
   ]
  },
  {
   "cell_type": "code",
   "execution_count": 29,
   "id": "c5f778e5",
   "metadata": {},
   "outputs": [],
   "source": [
    "df_sku = df_sku[['sku', 'a', 'b', 'c', 'volume', 'no_size']].merge(df_tfidf, how='left', on='sku')"
   ]
  },
  {
   "cell_type": "markdown",
   "id": "bea8ee4e",
   "metadata": {},
   "source": [
    "**Поскольку для некоторых sku не указаны карготипы, то заполним такие пропуски их нулями, предварительно создав столбец с меткой пропуска данной информации.**"
   ]
  },
  {
   "cell_type": "code",
   "execution_count": 30,
   "id": "f0aa3f05",
   "metadata": {},
   "outputs": [],
   "source": [
    "df_sku['no_cargotype'] = (~df_sku['sku'].isin(df_tfidf['sku'])).astype('int')"
   ]
  },
  {
   "cell_type": "code",
   "execution_count": 31,
   "id": "87292f7c",
   "metadata": {},
   "outputs": [],
   "source": [
    "df_sku = df_sku.fillna(0) "
   ]
  },
  {
   "cell_type": "markdown",
   "id": "f7cf5707",
   "metadata": {},
   "source": [
    "## Датасет для классификации"
   ]
  },
  {
   "cell_type": "markdown",
   "id": "c4058d1d",
   "metadata": {},
   "source": [
    "**Подготвим датасет для классификации. присоединим к ранее выбранным sku полученный датасет с  габаритными размерами и карготипам**"
   ]
  },
  {
   "cell_type": "code",
   "execution_count": 32,
   "id": "810a1b6a",
   "metadata": {},
   "outputs": [],
   "source": [
    "df_for_classific = df_cleaned.merge(df_sku, how='left', on='sku')"
   ]
  },
  {
   "cell_type": "markdown",
   "id": "6bf9e653",
   "metadata": {},
   "source": [
    "**Добавим вес товара из основного датасета для этого создадим датасет sku - goods_wght, При этом необходимо учесть, что для некоорых товаров вес указывали разный (порядка 100 штук таких товаров). Такие товары также необходимо обработать.**"
   ]
  },
  {
   "cell_type": "code",
   "execution_count": 33,
   "id": "d1350857",
   "metadata": {},
   "outputs": [],
   "source": [
    "df_sku_wght = df_data.groupby(['sku', 'goods_wght'])['goods_wght'].agg(['count']).reset_index(drop=False)"
   ]
  },
  {
   "cell_type": "markdown",
   "id": "6bd63902",
   "metadata": {},
   "source": [
    "**Создадим датасет, который будет показывать количество вариантов веса для каждого товара**"
   ]
  },
  {
   "cell_type": "code",
   "execution_count": 34,
   "id": "a102f732",
   "metadata": {},
   "outputs": [],
   "source": [
    "df_count_wght = df_sku_wght.groupby('sku')['goods_wght'].agg(['count']).reset_index(drop=False)"
   ]
  },
  {
   "cell_type": "markdown",
   "id": "2ed9310d",
   "metadata": {},
   "source": [
    "**Объединим товары у которых встречается разный вес в отдельный датасет**"
   ]
  },
  {
   "cell_type": "code",
   "execution_count": 35,
   "id": "e4983d16",
   "metadata": {},
   "outputs": [],
   "source": [
    "df_sku_wght_bad = df_sku_wght[df_sku_wght['sku'].isin(df_count_wght[df_count_wght['count']>1]['sku'])]"
   ]
  },
  {
   "cell_type": "code",
   "execution_count": 36,
   "id": "ad032581",
   "metadata": {},
   "outputs": [
    {
     "data": {
      "text/html": [
       "<div>\n",
       "<style scoped>\n",
       "    .dataframe tbody tr th:only-of-type {\n",
       "        vertical-align: middle;\n",
       "    }\n",
       "\n",
       "    .dataframe tbody tr th {\n",
       "        vertical-align: top;\n",
       "    }\n",
       "\n",
       "    .dataframe thead th {\n",
       "        text-align: right;\n",
       "    }\n",
       "</style>\n",
       "<table border=\"1\" class=\"dataframe\">\n",
       "  <thead>\n",
       "    <tr style=\"text-align: right;\">\n",
       "      <th></th>\n",
       "      <th>sku</th>\n",
       "      <th>goods_wght</th>\n",
       "      <th>count</th>\n",
       "    </tr>\n",
       "  </thead>\n",
       "  <tbody>\n",
       "    <tr>\n",
       "      <th>467</th>\n",
       "      <td>017a9e8665acbb0272675d8bc2e724a4</td>\n",
       "      <td>1.870</td>\n",
       "      <td>2</td>\n",
       "    </tr>\n",
       "    <tr>\n",
       "      <th>468</th>\n",
       "      <td>017a9e8665acbb0272675d8bc2e724a4</td>\n",
       "      <td>1.873</td>\n",
       "      <td>1</td>\n",
       "    </tr>\n",
       "    <tr>\n",
       "      <th>1086</th>\n",
       "      <td>036724225d7ff6f662afcbf909423c30</td>\n",
       "      <td>1.220</td>\n",
       "      <td>7</td>\n",
       "    </tr>\n",
       "    <tr>\n",
       "      <th>1087</th>\n",
       "      <td>036724225d7ff6f662afcbf909423c30</td>\n",
       "      <td>1.260</td>\n",
       "      <td>21</td>\n",
       "    </tr>\n",
       "    <tr>\n",
       "      <th>1695</th>\n",
       "      <td>053c9e45bf35a7f64dabcc1bcf46ff7f</td>\n",
       "      <td>1.850</td>\n",
       "      <td>25</td>\n",
       "    </tr>\n",
       "    <tr>\n",
       "      <th>...</th>\n",
       "      <td>...</td>\n",
       "      <td>...</td>\n",
       "      <td>...</td>\n",
       "    </tr>\n",
       "    <tr>\n",
       "      <th>79480</th>\n",
       "      <td>fc1b8ac0627826d2b50c3e08997f11c6</td>\n",
       "      <td>0.460</td>\n",
       "      <td>1</td>\n",
       "    </tr>\n",
       "    <tr>\n",
       "      <th>79572</th>\n",
       "      <td>fc74a8a114124ad54c2c75d887c4c4de</td>\n",
       "      <td>0.185</td>\n",
       "      <td>1</td>\n",
       "    </tr>\n",
       "    <tr>\n",
       "      <th>79573</th>\n",
       "      <td>fc74a8a114124ad54c2c75d887c4c4de</td>\n",
       "      <td>0.190</td>\n",
       "      <td>11</td>\n",
       "    </tr>\n",
       "    <tr>\n",
       "      <th>80656</th>\n",
       "      <td>ffd71f66b40c1bea7edcb427ffcfbef5</td>\n",
       "      <td>0.840</td>\n",
       "      <td>1</td>\n",
       "    </tr>\n",
       "    <tr>\n",
       "      <th>80657</th>\n",
       "      <td>ffd71f66b40c1bea7edcb427ffcfbef5</td>\n",
       "      <td>0.842</td>\n",
       "      <td>1</td>\n",
       "    </tr>\n",
       "  </tbody>\n",
       "</table>\n",
       "<p>214 rows × 3 columns</p>\n",
       "</div>"
      ],
      "text/plain": [
       "                                    sku  goods_wght  count\n",
       "467    017a9e8665acbb0272675d8bc2e724a4       1.870      2\n",
       "468    017a9e8665acbb0272675d8bc2e724a4       1.873      1\n",
       "1086   036724225d7ff6f662afcbf909423c30       1.220      7\n",
       "1087   036724225d7ff6f662afcbf909423c30       1.260     21\n",
       "1695   053c9e45bf35a7f64dabcc1bcf46ff7f       1.850     25\n",
       "...                                 ...         ...    ...\n",
       "79480  fc1b8ac0627826d2b50c3e08997f11c6       0.460      1\n",
       "79572  fc74a8a114124ad54c2c75d887c4c4de       0.185      1\n",
       "79573  fc74a8a114124ad54c2c75d887c4c4de       0.190     11\n",
       "80656  ffd71f66b40c1bea7edcb427ffcfbef5       0.840      1\n",
       "80657  ffd71f66b40c1bea7edcb427ffcfbef5       0.842      1\n",
       "\n",
       "[214 rows x 3 columns]"
      ]
     },
     "execution_count": 36,
     "metadata": {},
     "output_type": "execute_result"
    }
   ],
   "source": [
    "df_sku_wght_bad"
   ]
  },
  {
   "cell_type": "markdown",
   "id": "1b15f7e3",
   "metadata": {},
   "source": [
    "**Поскольку разница незначительная, то сгруппируем такие товары и возьмём среднее значение**"
   ]
  },
  {
   "cell_type": "code",
   "execution_count": 37,
   "id": "dcb1270d",
   "metadata": {},
   "outputs": [],
   "source": [
    "df_sku_wght_bad = df_sku_wght_bad.groupby('sku')['goods_wght'].agg('mean').reset_index(drop=False).rename(columns={'mean': 'goods_wght'})"
   ]
  },
  {
   "cell_type": "markdown",
   "id": "11832751",
   "metadata": {},
   "source": [
    "**Выберем остальной датасет и удалим колонку с количеством вхождений**"
   ]
  },
  {
   "cell_type": "code",
   "execution_count": 38,
   "id": "56858ff8",
   "metadata": {},
   "outputs": [],
   "source": [
    "df_sku_wght = df_sku_wght[df_sku_wght['sku'].isin(df_count_wght[df_count_wght['count']==1]['sku'])].drop('count', axis=1)"
   ]
  },
  {
   "cell_type": "markdown",
   "id": "139fe591",
   "metadata": {},
   "source": [
    "**Объединим оба датасета в один**"
   ]
  },
  {
   "cell_type": "code",
   "execution_count": 39,
   "id": "04e07e5c",
   "metadata": {},
   "outputs": [],
   "source": [
    "df_sku_wght = pd.concat((df_sku_wght, df_sku_wght_bad), axis=0)"
   ]
  },
  {
   "cell_type": "markdown",
   "id": "b85e94fe",
   "metadata": {},
   "source": [
    "**Присоединим полученные данные к датасет для классификации**"
   ]
  },
  {
   "cell_type": "code",
   "execution_count": 40,
   "id": "f061ccb3",
   "metadata": {},
   "outputs": [],
   "source": [
    "df_for_classific = df_for_classific.merge(df_sku_wght, how='left', on='sku')"
   ]
  },
  {
   "cell_type": "markdown",
   "id": "596fb25e",
   "metadata": {},
   "source": [
    "**Добавим плотность**"
   ]
  },
  {
   "cell_type": "code",
   "execution_count": 41,
   "id": "84ac7a86",
   "metadata": {},
   "outputs": [],
   "source": [
    "df_for_classific['specific_weight'] = df_for_classific['goods_wght'] / df_for_classific['volume']\n",
    "df_for_classific['specific_weight'] = df_for_classific['specific_weight'].fillna(0)"
   ]
  },
  {
   "cell_type": "markdown",
   "id": "9acfcb20",
   "metadata": {},
   "source": [
    "**Заменим значение бесконечности максимальным значением int**"
   ]
  },
  {
   "cell_type": "code",
   "execution_count": 42,
   "id": "f0f12cf3",
   "metadata": {},
   "outputs": [],
   "source": [
    "df_for_classific.loc[df_for_classific['specific_weight']==np.inf, 'specific_weight'] = sys.maxsize"
   ]
  },
  {
   "cell_type": "markdown",
   "id": "20493e4f",
   "metadata": {},
   "source": [
    "**Смаштабируем размеры. Для масштабирования будем использовать RobustScaler, поскольку он лучше борется с выбросами**"
   ]
  },
  {
   "cell_type": "code",
   "execution_count": 43,
   "id": "bf3023ed",
   "metadata": {},
   "outputs": [],
   "source": [
    "scaler_for_classif = RobustScaler()"
   ]
  },
  {
   "cell_type": "code",
   "execution_count": 44,
   "id": "e36039b2",
   "metadata": {},
   "outputs": [],
   "source": [
    "df_for_classific[['a', 'b', 'c', 'volume', 'goods_wght', 'specific_weight']] = scaler_for_classif.fit_transform(\n",
    "                                                                        df_for_classific[['a', 'b', 'c', 'volume', 'goods_wght', 'specific_weight']])"
   ]
  },
  {
   "cell_type": "markdown",
   "id": "40f7b5c5",
   "metadata": {},
   "source": [
    "**Сохраним скейлер для классификации**"
   ]
  },
  {
   "cell_type": "code",
   "execution_count": 45,
   "id": "eed1a4c6",
   "metadata": {},
   "outputs": [
    {
     "data": {
      "text/plain": [
       "['/Users/greygreywolf/Documents/yandex_market_hackaton_team_4/for_docker_images/src/scalers/scaler_rb_for_clusific.bin']"
      ]
     },
     "execution_count": 45,
     "metadata": {},
     "output_type": "execute_result"
    }
   ],
   "source": [
    "joblib.dump(scaler_for_classif, PATH_TO_SAVE_SCALER_CLASIFIC, compress=True)"
   ]
  },
  {
   "cell_type": "markdown",
   "id": "e10d2c11",
   "metadata": {},
   "source": [
    "**Удалим столбец sku, переименуем столбец selected_carton в target**"
   ]
  },
  {
   "cell_type": "code",
   "execution_count": 46,
   "id": "f253e4a3",
   "metadata": {},
   "outputs": [],
   "source": [
    "df_for_classific = df_for_classific.drop('sku', axis=1)\n",
    "df_for_classific = df_for_classific.rename(columns={'selected_carton': 'target'})"
   ]
  },
  {
   "cell_type": "code",
   "execution_count": 47,
   "id": "0a05aa2b",
   "metadata": {},
   "outputs": [],
   "source": [
    "df_rec = df_rec.drop('sku', axis=1)"
   ]
  },
  {
   "cell_type": "markdown",
   "id": "c056e576",
   "metadata": {},
   "source": [
    "**Запишим полученные датасеты в файлы**"
   ]
  },
  {
   "cell_type": "code",
   "execution_count": 48,
   "id": "0085cbbc",
   "metadata": {},
   "outputs": [],
   "source": [
    "df_for_classific.to_csv(PATH_TO_SAVE_DF_FOR_CLASSIFIC, index=False)"
   ]
  },
  {
   "cell_type": "code",
   "execution_count": 49,
   "id": "d1a450fa",
   "metadata": {},
   "outputs": [],
   "source": [
    "df_rec.to_csv(PATH_TO_SAVE_REC_PRED, index=False)"
   ]
  },
  {
   "cell_type": "code",
   "execution_count": 50,
   "id": "6b45fc2f",
   "metadata": {},
   "outputs": [
    {
     "data": {
      "text/html": [
       "<div>\n",
       "<style scoped>\n",
       "    .dataframe tbody tr th:only-of-type {\n",
       "        vertical-align: middle;\n",
       "    }\n",
       "\n",
       "    .dataframe tbody tr th {\n",
       "        vertical-align: top;\n",
       "    }\n",
       "\n",
       "    .dataframe thead th {\n",
       "        text-align: right;\n",
       "    }\n",
       "</style>\n",
       "<table border=\"1\" class=\"dataframe\">\n",
       "  <thead>\n",
       "    <tr style=\"text-align: right;\">\n",
       "      <th></th>\n",
       "      <th>target</th>\n",
       "      <th>a</th>\n",
       "      <th>b</th>\n",
       "      <th>c</th>\n",
       "      <th>volume</th>\n",
       "      <th>no_size</th>\n",
       "      <th>10</th>\n",
       "      <th>1010</th>\n",
       "      <th>1011</th>\n",
       "      <th>110</th>\n",
       "      <th>...</th>\n",
       "      <th>950</th>\n",
       "      <th>955</th>\n",
       "      <th>960</th>\n",
       "      <th>970</th>\n",
       "      <th>980</th>\n",
       "      <th>985</th>\n",
       "      <th>990</th>\n",
       "      <th>no_cargotype</th>\n",
       "      <th>goods_wght</th>\n",
       "      <th>specific_weight</th>\n",
       "    </tr>\n",
       "  </thead>\n",
       "  <tbody>\n",
       "    <tr>\n",
       "      <th>0</th>\n",
       "      <td>YMG</td>\n",
       "      <td>0.800000</td>\n",
       "      <td>0.627273</td>\n",
       "      <td>0.414286</td>\n",
       "      <td>1.094040</td>\n",
       "      <td>0</td>\n",
       "      <td>0.0</td>\n",
       "      <td>0.0</td>\n",
       "      <td>0.0</td>\n",
       "      <td>0.0</td>\n",
       "      <td>...</td>\n",
       "      <td>0.000000</td>\n",
       "      <td>0.0</td>\n",
       "      <td>0.000000</td>\n",
       "      <td>0.0</td>\n",
       "      <td>0.0</td>\n",
       "      <td>0.0</td>\n",
       "      <td>0.0</td>\n",
       "      <td>0</td>\n",
       "      <td>4.432258</td>\n",
       "      <td>1.280660</td>\n",
       "    </tr>\n",
       "    <tr>\n",
       "      <th>1</th>\n",
       "      <td>MYB</td>\n",
       "      <td>0.036364</td>\n",
       "      <td>-0.572727</td>\n",
       "      <td>-0.164286</td>\n",
       "      <td>-0.198518</td>\n",
       "      <td>0</td>\n",
       "      <td>0.0</td>\n",
       "      <td>0.0</td>\n",
       "      <td>0.0</td>\n",
       "      <td>0.0</td>\n",
       "      <td>...</td>\n",
       "      <td>0.000000</td>\n",
       "      <td>0.0</td>\n",
       "      <td>0.000000</td>\n",
       "      <td>0.0</td>\n",
       "      <td>0.0</td>\n",
       "      <td>0.0</td>\n",
       "      <td>0.0</td>\n",
       "      <td>0</td>\n",
       "      <td>-0.138710</td>\n",
       "      <td>0.524116</td>\n",
       "    </tr>\n",
       "    <tr>\n",
       "      <th>2</th>\n",
       "      <td>MYB</td>\n",
       "      <td>-0.218182</td>\n",
       "      <td>-0.300000</td>\n",
       "      <td>-0.157143</td>\n",
       "      <td>-0.176471</td>\n",
       "      <td>0</td>\n",
       "      <td>0.0</td>\n",
       "      <td>0.0</td>\n",
       "      <td>0.0</td>\n",
       "      <td>0.0</td>\n",
       "      <td>...</td>\n",
       "      <td>0.000000</td>\n",
       "      <td>0.0</td>\n",
       "      <td>0.000000</td>\n",
       "      <td>0.0</td>\n",
       "      <td>0.0</td>\n",
       "      <td>0.0</td>\n",
       "      <td>0.0</td>\n",
       "      <td>0</td>\n",
       "      <td>-0.325806</td>\n",
       "      <td>-0.241356</td>\n",
       "    </tr>\n",
       "    <tr>\n",
       "      <th>3</th>\n",
       "      <td>YMF</td>\n",
       "      <td>0.545455</td>\n",
       "      <td>-0.345455</td>\n",
       "      <td>-0.142857</td>\n",
       "      <td>0.008662</td>\n",
       "      <td>0</td>\n",
       "      <td>0.0</td>\n",
       "      <td>0.0</td>\n",
       "      <td>0.0</td>\n",
       "      <td>0.0</td>\n",
       "      <td>...</td>\n",
       "      <td>0.000000</td>\n",
       "      <td>0.0</td>\n",
       "      <td>0.000000</td>\n",
       "      <td>0.0</td>\n",
       "      <td>0.0</td>\n",
       "      <td>0.0</td>\n",
       "      <td>0.0</td>\n",
       "      <td>0</td>\n",
       "      <td>-0.091935</td>\n",
       "      <td>-0.118520</td>\n",
       "    </tr>\n",
       "    <tr>\n",
       "      <th>4</th>\n",
       "      <td>YMA</td>\n",
       "      <td>0.363636</td>\n",
       "      <td>-0.436364</td>\n",
       "      <td>-0.714286</td>\n",
       "      <td>-0.203722</td>\n",
       "      <td>0</td>\n",
       "      <td>0.0</td>\n",
       "      <td>0.0</td>\n",
       "      <td>0.0</td>\n",
       "      <td>0.0</td>\n",
       "      <td>...</td>\n",
       "      <td>0.000000</td>\n",
       "      <td>0.0</td>\n",
       "      <td>0.320382</td>\n",
       "      <td>0.0</td>\n",
       "      <td>0.0</td>\n",
       "      <td>0.0</td>\n",
       "      <td>0.0</td>\n",
       "      <td>0</td>\n",
       "      <td>0.080645</td>\n",
       "      <td>1.408694</td>\n",
       "    </tr>\n",
       "    <tr>\n",
       "      <th>...</th>\n",
       "      <td>...</td>\n",
       "      <td>...</td>\n",
       "      <td>...</td>\n",
       "      <td>...</td>\n",
       "      <td>...</td>\n",
       "      <td>...</td>\n",
       "      <td>...</td>\n",
       "      <td>...</td>\n",
       "      <td>...</td>\n",
       "      <td>...</td>\n",
       "      <td>...</td>\n",
       "      <td>...</td>\n",
       "      <td>...</td>\n",
       "      <td>...</td>\n",
       "      <td>...</td>\n",
       "      <td>...</td>\n",
       "      <td>...</td>\n",
       "      <td>...</td>\n",
       "      <td>...</td>\n",
       "      <td>...</td>\n",
       "      <td>...</td>\n",
       "    </tr>\n",
       "    <tr>\n",
       "      <th>81143</th>\n",
       "      <td>MYA</td>\n",
       "      <td>0.000000</td>\n",
       "      <td>-0.163636</td>\n",
       "      <td>-0.714286</td>\n",
       "      <td>-0.200513</td>\n",
       "      <td>0</td>\n",
       "      <td>0.0</td>\n",
       "      <td>0.0</td>\n",
       "      <td>0.0</td>\n",
       "      <td>0.0</td>\n",
       "      <td>...</td>\n",
       "      <td>0.000000</td>\n",
       "      <td>0.0</td>\n",
       "      <td>0.000000</td>\n",
       "      <td>0.0</td>\n",
       "      <td>0.0</td>\n",
       "      <td>0.0</td>\n",
       "      <td>0.0</td>\n",
       "      <td>0</td>\n",
       "      <td>-0.322581</td>\n",
       "      <td>-0.151706</td>\n",
       "    </tr>\n",
       "    <tr>\n",
       "      <th>81144</th>\n",
       "      <td>MYC</td>\n",
       "      <td>-0.363636</td>\n",
       "      <td>-0.800000</td>\n",
       "      <td>0.357143</td>\n",
       "      <td>-0.288739</td>\n",
       "      <td>0</td>\n",
       "      <td>0.0</td>\n",
       "      <td>0.0</td>\n",
       "      <td>0.0</td>\n",
       "      <td>0.0</td>\n",
       "      <td>...</td>\n",
       "      <td>0.000000</td>\n",
       "      <td>0.0</td>\n",
       "      <td>0.000000</td>\n",
       "      <td>0.0</td>\n",
       "      <td>0.0</td>\n",
       "      <td>0.0</td>\n",
       "      <td>0.0</td>\n",
       "      <td>0</td>\n",
       "      <td>-0.322581</td>\n",
       "      <td>0.589966</td>\n",
       "    </tr>\n",
       "    <tr>\n",
       "      <th>81145</th>\n",
       "      <td>MYA</td>\n",
       "      <td>-0.545455</td>\n",
       "      <td>-0.618182</td>\n",
       "      <td>-0.642857</td>\n",
       "      <td>-0.325634</td>\n",
       "      <td>0</td>\n",
       "      <td>0.0</td>\n",
       "      <td>0.0</td>\n",
       "      <td>0.0</td>\n",
       "      <td>0.0</td>\n",
       "      <td>...</td>\n",
       "      <td>0.000000</td>\n",
       "      <td>0.0</td>\n",
       "      <td>0.000000</td>\n",
       "      <td>0.0</td>\n",
       "      <td>0.0</td>\n",
       "      <td>0.0</td>\n",
       "      <td>0.0</td>\n",
       "      <td>0</td>\n",
       "      <td>-0.322581</td>\n",
       "      <td>1.999755</td>\n",
       "    </tr>\n",
       "    <tr>\n",
       "      <th>81146</th>\n",
       "      <td>MYB</td>\n",
       "      <td>-0.181818</td>\n",
       "      <td>0.563636</td>\n",
       "      <td>-0.142857</td>\n",
       "      <td>0.054860</td>\n",
       "      <td>0</td>\n",
       "      <td>0.0</td>\n",
       "      <td>0.0</td>\n",
       "      <td>0.0</td>\n",
       "      <td>0.0</td>\n",
       "      <td>...</td>\n",
       "      <td>0.000000</td>\n",
       "      <td>0.0</td>\n",
       "      <td>0.000000</td>\n",
       "      <td>0.0</td>\n",
       "      <td>0.0</td>\n",
       "      <td>0.0</td>\n",
       "      <td>0.0</td>\n",
       "      <td>0</td>\n",
       "      <td>0.000000</td>\n",
       "      <td>-0.056187</td>\n",
       "    </tr>\n",
       "    <tr>\n",
       "      <th>81147</th>\n",
       "      <td>MYC</td>\n",
       "      <td>0.545455</td>\n",
       "      <td>0.200000</td>\n",
       "      <td>1.142857</td>\n",
       "      <td>0.932628</td>\n",
       "      <td>0</td>\n",
       "      <td>0.0</td>\n",
       "      <td>0.0</td>\n",
       "      <td>0.0</td>\n",
       "      <td>0.0</td>\n",
       "      <td>...</td>\n",
       "      <td>0.372441</td>\n",
       "      <td>0.0</td>\n",
       "      <td>0.000000</td>\n",
       "      <td>0.0</td>\n",
       "      <td>0.0</td>\n",
       "      <td>0.0</td>\n",
       "      <td>0.0</td>\n",
       "      <td>0</td>\n",
       "      <td>0.290323</td>\n",
       "      <td>-0.397324</td>\n",
       "    </tr>\n",
       "  </tbody>\n",
       "</table>\n",
       "<p>81148 rows × 96 columns</p>\n",
       "</div>"
      ],
      "text/plain": [
       "      target         a         b         c    volume  no_size   10  1010  \\\n",
       "0        YMG  0.800000  0.627273  0.414286  1.094040        0  0.0   0.0   \n",
       "1        MYB  0.036364 -0.572727 -0.164286 -0.198518        0  0.0   0.0   \n",
       "2        MYB -0.218182 -0.300000 -0.157143 -0.176471        0  0.0   0.0   \n",
       "3        YMF  0.545455 -0.345455 -0.142857  0.008662        0  0.0   0.0   \n",
       "4        YMA  0.363636 -0.436364 -0.714286 -0.203722        0  0.0   0.0   \n",
       "...      ...       ...       ...       ...       ...      ...  ...   ...   \n",
       "81143    MYA  0.000000 -0.163636 -0.714286 -0.200513        0  0.0   0.0   \n",
       "81144    MYC -0.363636 -0.800000  0.357143 -0.288739        0  0.0   0.0   \n",
       "81145    MYA -0.545455 -0.618182 -0.642857 -0.325634        0  0.0   0.0   \n",
       "81146    MYB -0.181818  0.563636 -0.142857  0.054860        0  0.0   0.0   \n",
       "81147    MYC  0.545455  0.200000  1.142857  0.932628        0  0.0   0.0   \n",
       "\n",
       "       1011  110  ...       950  955       960  970  980  985  990  \\\n",
       "0       0.0  0.0  ...  0.000000  0.0  0.000000  0.0  0.0  0.0  0.0   \n",
       "1       0.0  0.0  ...  0.000000  0.0  0.000000  0.0  0.0  0.0  0.0   \n",
       "2       0.0  0.0  ...  0.000000  0.0  0.000000  0.0  0.0  0.0  0.0   \n",
       "3       0.0  0.0  ...  0.000000  0.0  0.000000  0.0  0.0  0.0  0.0   \n",
       "4       0.0  0.0  ...  0.000000  0.0  0.320382  0.0  0.0  0.0  0.0   \n",
       "...     ...  ...  ...       ...  ...       ...  ...  ...  ...  ...   \n",
       "81143   0.0  0.0  ...  0.000000  0.0  0.000000  0.0  0.0  0.0  0.0   \n",
       "81144   0.0  0.0  ...  0.000000  0.0  0.000000  0.0  0.0  0.0  0.0   \n",
       "81145   0.0  0.0  ...  0.000000  0.0  0.000000  0.0  0.0  0.0  0.0   \n",
       "81146   0.0  0.0  ...  0.000000  0.0  0.000000  0.0  0.0  0.0  0.0   \n",
       "81147   0.0  0.0  ...  0.372441  0.0  0.000000  0.0  0.0  0.0  0.0   \n",
       "\n",
       "       no_cargotype  goods_wght  specific_weight  \n",
       "0                 0    4.432258         1.280660  \n",
       "1                 0   -0.138710         0.524116  \n",
       "2                 0   -0.325806        -0.241356  \n",
       "3                 0   -0.091935        -0.118520  \n",
       "4                 0    0.080645         1.408694  \n",
       "...             ...         ...              ...  \n",
       "81143             0   -0.322581        -0.151706  \n",
       "81144             0   -0.322581         0.589966  \n",
       "81145             0   -0.322581         1.999755  \n",
       "81146             0    0.000000        -0.056187  \n",
       "81147             0    0.290323        -0.397324  \n",
       "\n",
       "[81148 rows x 96 columns]"
      ]
     },
     "execution_count": 50,
     "metadata": {},
     "output_type": "execute_result"
    }
   ],
   "source": [
    "df_for_classific"
   ]
  },
  {
   "cell_type": "markdown",
   "id": "666ffe08",
   "metadata": {},
   "source": [
    "## Датасет для кластеризации"
   ]
  },
  {
   "cell_type": "markdown",
   "id": "2b08fd1e",
   "metadata": {},
   "source": [
    "**Поскольку было принято решение использовать кластеризацию товаров, то потребуется создать отдельный датасет по всем товарам, а не только по тем, которые указаны в основном датасете.**"
   ]
  },
  {
   "cell_type": "markdown",
   "id": "becfd73d",
   "metadata": {},
   "source": [
    "**Покольку, в отличии от датасета для классификации, в датасет для кластеризации могут попасть товары без линейных размеров, то добавим соответствующий столбец**"
   ]
  },
  {
   "cell_type": "code",
   "execution_count": 51,
   "id": "2f848143",
   "metadata": {},
   "outputs": [],
   "source": [
    "matrix_for_cluster = df_sku.copy(deep=True)"
   ]
  },
  {
   "cell_type": "markdown",
   "id": "519d1441",
   "metadata": {},
   "source": [
    "**Удалим столбец с sku**"
   ]
  },
  {
   "cell_type": "code",
   "execution_count": 52,
   "id": "d5a840d2",
   "metadata": {},
   "outputs": [],
   "source": [
    "matrix_for_cluster.drop(['sku'], axis=1, inplace=True)"
   ]
  },
  {
   "cell_type": "markdown",
   "id": "f8151f1b",
   "metadata": {},
   "source": [
    "**Аналогично с датасетом для классификации будем использовать RobustScaler, но при этом его нужно будет сохранить отдельным файлом, так как он обучался на других столбцах**"
   ]
  },
  {
   "cell_type": "code",
   "execution_count": 53,
   "id": "121a7766",
   "metadata": {},
   "outputs": [],
   "source": [
    "scaler_for_cluster = RobustScaler()"
   ]
  },
  {
   "cell_type": "code",
   "execution_count": 54,
   "id": "bb35d15b",
   "metadata": {},
   "outputs": [],
   "source": [
    "matrix_for_cluster[['a', 'b', 'c', 'volume']] = scaler_for_cluster.fit_transform(matrix_for_cluster[['a', 'b', 'c', 'volume']])"
   ]
  },
  {
   "cell_type": "code",
   "execution_count": 55,
   "id": "6c9fb99a",
   "metadata": {},
   "outputs": [
    {
     "data": {
      "text/plain": [
       "['/Users/greygreywolf/Documents/yandex_market_hackaton_team_4/for_docker_images/src/scalers/scaler_rb_for_cluster.bin']"
      ]
     },
     "execution_count": 55,
     "metadata": {},
     "output_type": "execute_result"
    }
   ],
   "source": [
    "joblib.dump(scaler_for_cluster, PATH_TO_SAVE_SCALER_FOR_CLUSTER, compress=True)"
   ]
  },
  {
   "cell_type": "markdown",
   "id": "ac3a99c2",
   "metadata": {},
   "source": [
    "**Поскольку у нас очень много товаров, при этом матрица карготипов является разряженой, то разумнее сохранить её именно как разряженную матрицу, для этого напишем соответствующую функцию**"
   ]
  },
  {
   "cell_type": "code",
   "execution_count": 56,
   "id": "e8a276ec",
   "metadata": {},
   "outputs": [],
   "source": [
    "def save_sparse_csr(filename: str, array):\n",
    "    np.savez(filename, data=array.data, indices=array.indices,\n",
    "             indptr=array.indptr, shape=array.shape)"
   ]
  },
  {
   "cell_type": "code",
   "execution_count": 57,
   "id": "ea2d252a",
   "metadata": {},
   "outputs": [],
   "source": [
    "save_sparse_csr(PATH_TO_SAVE_SPARSE_FOR_CLUSTER, csr_matrix(matrix_for_cluster))"
   ]
  },
  {
   "cell_type": "markdown",
   "id": "9cf860c7",
   "metadata": {},
   "source": [
    "**Поскольку для лкассификации планируется использовать предсказанные кластера, то сделаем отдельный датасет для значений из кластеризации, поскольку scalerы у них должны быть разные**"
   ]
  },
  {
   "cell_type": "code",
   "execution_count": 58,
   "id": "289c93e6",
   "metadata": {},
   "outputs": [],
   "source": [
    "matrix_for_cluster_to_classif = df_cleaned.merge(df_sku, how='left', on='sku')"
   ]
  },
  {
   "cell_type": "code",
   "execution_count": 59,
   "id": "3a71b84d",
   "metadata": {},
   "outputs": [],
   "source": [
    "matrix_for_cluster_to_classif[['a', 'b', 'c', 'volume']] = (scaler_for_cluster.\n",
    "                                                            transform(matrix_for_cluster_to_classif[['a', 'b', 'c', 'volume']]))"
   ]
  },
  {
   "cell_type": "code",
   "execution_count": 60,
   "id": "fd1c6ec2",
   "metadata": {},
   "outputs": [],
   "source": [
    "matrix_for_cluster_to_classif.drop(['sku', 'selected_carton'], axis=1, inplace=True)"
   ]
  },
  {
   "cell_type": "code",
   "execution_count": 61,
   "id": "db2d39e3",
   "metadata": {},
   "outputs": [
    {
     "data": {
      "text/html": [
       "<div>\n",
       "<style scoped>\n",
       "    .dataframe tbody tr th:only-of-type {\n",
       "        vertical-align: middle;\n",
       "    }\n",
       "\n",
       "    .dataframe tbody tr th {\n",
       "        vertical-align: top;\n",
       "    }\n",
       "\n",
       "    .dataframe thead th {\n",
       "        text-align: right;\n",
       "    }\n",
       "</style>\n",
       "<table border=\"1\" class=\"dataframe\">\n",
       "  <thead>\n",
       "    <tr style=\"text-align: right;\">\n",
       "      <th></th>\n",
       "      <th>a</th>\n",
       "      <th>b</th>\n",
       "      <th>c</th>\n",
       "      <th>volume</th>\n",
       "      <th>no_size</th>\n",
       "      <th>10</th>\n",
       "      <th>1010</th>\n",
       "      <th>1011</th>\n",
       "      <th>110</th>\n",
       "      <th>120</th>\n",
       "      <th>...</th>\n",
       "      <th>930</th>\n",
       "      <th>931</th>\n",
       "      <th>950</th>\n",
       "      <th>955</th>\n",
       "      <th>960</th>\n",
       "      <th>970</th>\n",
       "      <th>980</th>\n",
       "      <th>985</th>\n",
       "      <th>990</th>\n",
       "      <th>no_cargotype</th>\n",
       "    </tr>\n",
       "  </thead>\n",
       "  <tbody>\n",
       "    <tr>\n",
       "      <th>0</th>\n",
       "      <td>0.550</td>\n",
       "      <td>0.361538</td>\n",
       "      <td>0.23750</td>\n",
       "      <td>0.700005</td>\n",
       "      <td>0</td>\n",
       "      <td>0.0</td>\n",
       "      <td>0.0</td>\n",
       "      <td>0.0</td>\n",
       "      <td>0.0</td>\n",
       "      <td>0.0</td>\n",
       "      <td>...</td>\n",
       "      <td>0.0</td>\n",
       "      <td>0.0</td>\n",
       "      <td>0.000000</td>\n",
       "      <td>0.0</td>\n",
       "      <td>0.000000</td>\n",
       "      <td>0.0</td>\n",
       "      <td>0.0</td>\n",
       "      <td>0.0</td>\n",
       "      <td>0.0</td>\n",
       "      <td>0</td>\n",
       "    </tr>\n",
       "    <tr>\n",
       "      <th>1</th>\n",
       "      <td>0.025</td>\n",
       "      <td>-0.653846</td>\n",
       "      <td>-0.26875</td>\n",
       "      <td>-0.177178</td>\n",
       "      <td>0</td>\n",
       "      <td>0.0</td>\n",
       "      <td>0.0</td>\n",
       "      <td>0.0</td>\n",
       "      <td>0.0</td>\n",
       "      <td>0.0</td>\n",
       "      <td>...</td>\n",
       "      <td>0.0</td>\n",
       "      <td>0.0</td>\n",
       "      <td>0.000000</td>\n",
       "      <td>0.0</td>\n",
       "      <td>0.000000</td>\n",
       "      <td>0.0</td>\n",
       "      <td>0.0</td>\n",
       "      <td>0.0</td>\n",
       "      <td>0.0</td>\n",
       "      <td>0</td>\n",
       "    </tr>\n",
       "    <tr>\n",
       "      <th>2</th>\n",
       "      <td>-0.150</td>\n",
       "      <td>-0.423077</td>\n",
       "      <td>-0.26250</td>\n",
       "      <td>-0.162216</td>\n",
       "      <td>0</td>\n",
       "      <td>0.0</td>\n",
       "      <td>0.0</td>\n",
       "      <td>0.0</td>\n",
       "      <td>0.0</td>\n",
       "      <td>0.0</td>\n",
       "      <td>...</td>\n",
       "      <td>0.0</td>\n",
       "      <td>0.0</td>\n",
       "      <td>0.000000</td>\n",
       "      <td>0.0</td>\n",
       "      <td>0.000000</td>\n",
       "      <td>0.0</td>\n",
       "      <td>0.0</td>\n",
       "      <td>0.0</td>\n",
       "      <td>0.0</td>\n",
       "      <td>0</td>\n",
       "    </tr>\n",
       "    <tr>\n",
       "      <th>3</th>\n",
       "      <td>0.375</td>\n",
       "      <td>-0.461538</td>\n",
       "      <td>-0.25000</td>\n",
       "      <td>-0.036577</td>\n",
       "      <td>0</td>\n",
       "      <td>0.0</td>\n",
       "      <td>0.0</td>\n",
       "      <td>0.0</td>\n",
       "      <td>0.0</td>\n",
       "      <td>0.0</td>\n",
       "      <td>...</td>\n",
       "      <td>0.0</td>\n",
       "      <td>0.0</td>\n",
       "      <td>0.000000</td>\n",
       "      <td>0.0</td>\n",
       "      <td>0.000000</td>\n",
       "      <td>0.0</td>\n",
       "      <td>0.0</td>\n",
       "      <td>0.0</td>\n",
       "      <td>0.0</td>\n",
       "      <td>0</td>\n",
       "    </tr>\n",
       "    <tr>\n",
       "      <th>4</th>\n",
       "      <td>0.250</td>\n",
       "      <td>-0.538462</td>\n",
       "      <td>-0.75000</td>\n",
       "      <td>-0.180710</td>\n",
       "      <td>0</td>\n",
       "      <td>0.0</td>\n",
       "      <td>0.0</td>\n",
       "      <td>0.0</td>\n",
       "      <td>0.0</td>\n",
       "      <td>0.0</td>\n",
       "      <td>...</td>\n",
       "      <td>0.0</td>\n",
       "      <td>0.0</td>\n",
       "      <td>0.000000</td>\n",
       "      <td>0.0</td>\n",
       "      <td>0.320382</td>\n",
       "      <td>0.0</td>\n",
       "      <td>0.0</td>\n",
       "      <td>0.0</td>\n",
       "      <td>0.0</td>\n",
       "      <td>0</td>\n",
       "    </tr>\n",
       "    <tr>\n",
       "      <th>...</th>\n",
       "      <td>...</td>\n",
       "      <td>...</td>\n",
       "      <td>...</td>\n",
       "      <td>...</td>\n",
       "      <td>...</td>\n",
       "      <td>...</td>\n",
       "      <td>...</td>\n",
       "      <td>...</td>\n",
       "      <td>...</td>\n",
       "      <td>...</td>\n",
       "      <td>...</td>\n",
       "      <td>...</td>\n",
       "      <td>...</td>\n",
       "      <td>...</td>\n",
       "      <td>...</td>\n",
       "      <td>...</td>\n",
       "      <td>...</td>\n",
       "      <td>...</td>\n",
       "      <td>...</td>\n",
       "      <td>...</td>\n",
       "      <td>...</td>\n",
       "    </tr>\n",
       "    <tr>\n",
       "      <th>81143</th>\n",
       "      <td>0.000</td>\n",
       "      <td>-0.307692</td>\n",
       "      <td>-0.75000</td>\n",
       "      <td>-0.178533</td>\n",
       "      <td>0</td>\n",
       "      <td>0.0</td>\n",
       "      <td>0.0</td>\n",
       "      <td>0.0</td>\n",
       "      <td>0.0</td>\n",
       "      <td>0.0</td>\n",
       "      <td>...</td>\n",
       "      <td>0.0</td>\n",
       "      <td>0.0</td>\n",
       "      <td>0.000000</td>\n",
       "      <td>0.0</td>\n",
       "      <td>0.000000</td>\n",
       "      <td>0.0</td>\n",
       "      <td>0.0</td>\n",
       "      <td>0.0</td>\n",
       "      <td>0.0</td>\n",
       "      <td>0</td>\n",
       "    </tr>\n",
       "    <tr>\n",
       "      <th>81144</th>\n",
       "      <td>-0.250</td>\n",
       "      <td>-0.846154</td>\n",
       "      <td>0.18750</td>\n",
       "      <td>-0.238406</td>\n",
       "      <td>0</td>\n",
       "      <td>0.0</td>\n",
       "      <td>0.0</td>\n",
       "      <td>0.0</td>\n",
       "      <td>0.0</td>\n",
       "      <td>0.0</td>\n",
       "      <td>...</td>\n",
       "      <td>0.0</td>\n",
       "      <td>0.0</td>\n",
       "      <td>0.000000</td>\n",
       "      <td>0.0</td>\n",
       "      <td>0.000000</td>\n",
       "      <td>0.0</td>\n",
       "      <td>0.0</td>\n",
       "      <td>0.0</td>\n",
       "      <td>0.0</td>\n",
       "      <td>0</td>\n",
       "    </tr>\n",
       "    <tr>\n",
       "      <th>81145</th>\n",
       "      <td>-0.375</td>\n",
       "      <td>-0.692308</td>\n",
       "      <td>-0.68750</td>\n",
       "      <td>-0.263444</td>\n",
       "      <td>0</td>\n",
       "      <td>0.0</td>\n",
       "      <td>0.0</td>\n",
       "      <td>0.0</td>\n",
       "      <td>0.0</td>\n",
       "      <td>0.0</td>\n",
       "      <td>...</td>\n",
       "      <td>0.0</td>\n",
       "      <td>0.0</td>\n",
       "      <td>0.000000</td>\n",
       "      <td>0.0</td>\n",
       "      <td>0.000000</td>\n",
       "      <td>0.0</td>\n",
       "      <td>0.0</td>\n",
       "      <td>0.0</td>\n",
       "      <td>0.0</td>\n",
       "      <td>0</td>\n",
       "    </tr>\n",
       "    <tr>\n",
       "      <th>81146</th>\n",
       "      <td>-0.125</td>\n",
       "      <td>0.307692</td>\n",
       "      <td>-0.25000</td>\n",
       "      <td>-0.005225</td>\n",
       "      <td>0</td>\n",
       "      <td>0.0</td>\n",
       "      <td>0.0</td>\n",
       "      <td>0.0</td>\n",
       "      <td>0.0</td>\n",
       "      <td>0.0</td>\n",
       "      <td>...</td>\n",
       "      <td>0.0</td>\n",
       "      <td>0.0</td>\n",
       "      <td>0.000000</td>\n",
       "      <td>0.0</td>\n",
       "      <td>0.000000</td>\n",
       "      <td>0.0</td>\n",
       "      <td>0.0</td>\n",
       "      <td>0.0</td>\n",
       "      <td>0.0</td>\n",
       "      <td>0</td>\n",
       "    </tr>\n",
       "    <tr>\n",
       "      <th>81147</th>\n",
       "      <td>0.375</td>\n",
       "      <td>0.000000</td>\n",
       "      <td>0.87500</td>\n",
       "      <td>0.590464</td>\n",
       "      <td>0</td>\n",
       "      <td>0.0</td>\n",
       "      <td>0.0</td>\n",
       "      <td>0.0</td>\n",
       "      <td>0.0</td>\n",
       "      <td>0.0</td>\n",
       "      <td>...</td>\n",
       "      <td>0.0</td>\n",
       "      <td>0.0</td>\n",
       "      <td>0.372441</td>\n",
       "      <td>0.0</td>\n",
       "      <td>0.000000</td>\n",
       "      <td>0.0</td>\n",
       "      <td>0.0</td>\n",
       "      <td>0.0</td>\n",
       "      <td>0.0</td>\n",
       "      <td>0</td>\n",
       "    </tr>\n",
       "  </tbody>\n",
       "</table>\n",
       "<p>81148 rows × 93 columns</p>\n",
       "</div>"
      ],
      "text/plain": [
       "           a         b        c    volume  no_size   10  1010  1011  110  120  \\\n",
       "0      0.550  0.361538  0.23750  0.700005        0  0.0   0.0   0.0  0.0  0.0   \n",
       "1      0.025 -0.653846 -0.26875 -0.177178        0  0.0   0.0   0.0  0.0  0.0   \n",
       "2     -0.150 -0.423077 -0.26250 -0.162216        0  0.0   0.0   0.0  0.0  0.0   \n",
       "3      0.375 -0.461538 -0.25000 -0.036577        0  0.0   0.0   0.0  0.0  0.0   \n",
       "4      0.250 -0.538462 -0.75000 -0.180710        0  0.0   0.0   0.0  0.0  0.0   \n",
       "...      ...       ...      ...       ...      ...  ...   ...   ...  ...  ...   \n",
       "81143  0.000 -0.307692 -0.75000 -0.178533        0  0.0   0.0   0.0  0.0  0.0   \n",
       "81144 -0.250 -0.846154  0.18750 -0.238406        0  0.0   0.0   0.0  0.0  0.0   \n",
       "81145 -0.375 -0.692308 -0.68750 -0.263444        0  0.0   0.0   0.0  0.0  0.0   \n",
       "81146 -0.125  0.307692 -0.25000 -0.005225        0  0.0   0.0   0.0  0.0  0.0   \n",
       "81147  0.375  0.000000  0.87500  0.590464        0  0.0   0.0   0.0  0.0  0.0   \n",
       "\n",
       "       ...  930  931       950  955       960  970  980  985  990  \\\n",
       "0      ...  0.0  0.0  0.000000  0.0  0.000000  0.0  0.0  0.0  0.0   \n",
       "1      ...  0.0  0.0  0.000000  0.0  0.000000  0.0  0.0  0.0  0.0   \n",
       "2      ...  0.0  0.0  0.000000  0.0  0.000000  0.0  0.0  0.0  0.0   \n",
       "3      ...  0.0  0.0  0.000000  0.0  0.000000  0.0  0.0  0.0  0.0   \n",
       "4      ...  0.0  0.0  0.000000  0.0  0.320382  0.0  0.0  0.0  0.0   \n",
       "...    ...  ...  ...       ...  ...       ...  ...  ...  ...  ...   \n",
       "81143  ...  0.0  0.0  0.000000  0.0  0.000000  0.0  0.0  0.0  0.0   \n",
       "81144  ...  0.0  0.0  0.000000  0.0  0.000000  0.0  0.0  0.0  0.0   \n",
       "81145  ...  0.0  0.0  0.000000  0.0  0.000000  0.0  0.0  0.0  0.0   \n",
       "81146  ...  0.0  0.0  0.000000  0.0  0.000000  0.0  0.0  0.0  0.0   \n",
       "81147  ...  0.0  0.0  0.372441  0.0  0.000000  0.0  0.0  0.0  0.0   \n",
       "\n",
       "       no_cargotype  \n",
       "0                 0  \n",
       "1                 0  \n",
       "2                 0  \n",
       "3                 0  \n",
       "4                 0  \n",
       "...             ...  \n",
       "81143             0  \n",
       "81144             0  \n",
       "81145             0  \n",
       "81146             0  \n",
       "81147             0  \n",
       "\n",
       "[81148 rows x 93 columns]"
      ]
     },
     "execution_count": 61,
     "metadata": {},
     "output_type": "execute_result"
    }
   ],
   "source": [
    "matrix_for_cluster_to_classif"
   ]
  },
  {
   "cell_type": "code",
   "execution_count": 62,
   "id": "bfe240cc",
   "metadata": {},
   "outputs": [],
   "source": [
    "save_sparse_csr(PATH_TO_SAVE_SPARSE_FOR_CLUSTER_TO_CLASSIF, csr_matrix(matrix_for_cluster_to_classif))"
   ]
  },
  {
   "cell_type": "markdown",
   "id": "620aecda",
   "metadata": {},
   "source": [
    "## Выводы"
   ]
  },
  {
   "cell_type": "markdown",
   "id": "d2eec187",
   "metadata": {},
   "source": [
    "В данном разделе были решены вопросы препроцессинга данных перед машинным обучением, а именно:\n",
    "\n",
    "    1. Были предообработаны линейные размеры товара (были отсортированы по возрастанию, теперь для всех sku размер 'a' самый маленький, размер 'c' самый большой, это должно помочь модели находить зависимости).\n",
    "    2. Был отобран датасет для обучения, чтобы каждому товару соответствовала одна упаковка. В дальнейшем, при обучении, это поможет модели более уверено предсказывать упаковку.\n",
    "    3. Было проведено преобразование категориальных признаков при помощи TfIdf. Сам векторизатор был сохранён для дальнейшего использования при прогназировании.\n",
    "    4. Были подготовлены датасеты для задачи классификации и кластеризации, для каждого из них был обучен и сохранён свой скейлер."
   ]
  },
  {
   "cell_type": "code",
   "execution_count": null,
   "id": "795d38c6",
   "metadata": {},
   "outputs": [],
   "source": []
  }
 ],
 "metadata": {
  "kernelspec": {
   "display_name": "Python 3 (ipykernel)",
   "language": "python",
   "name": "python3"
  },
  "language_info": {
   "codemirror_mode": {
    "name": "ipython",
    "version": 3
   },
   "file_extension": ".py",
   "mimetype": "text/x-python",
   "name": "python",
   "nbconvert_exporter": "python",
   "pygments_lexer": "ipython3",
   "version": "3.9.16"
  },
  "toc": {
   "base_numbering": 1,
   "nav_menu": {},
   "number_sections": true,
   "sideBar": true,
   "skip_h1_title": false,
   "title_cell": "Table of Contents",
   "title_sidebar": "Contents",
   "toc_cell": false,
   "toc_position": {
    "height": "calc(100% - 180px)",
    "left": "10px",
    "top": "150px",
    "width": "349.078px"
   },
   "toc_section_display": true,
   "toc_window_display": true
  },
  "varInspector": {
   "cols": {
    "lenName": 16,
    "lenType": 16,
    "lenVar": 40
   },
   "kernels_config": {
    "python": {
     "delete_cmd_postfix": "",
     "delete_cmd_prefix": "del ",
     "library": "var_list.py",
     "varRefreshCmd": "print(var_dic_list())"
    },
    "r": {
     "delete_cmd_postfix": ") ",
     "delete_cmd_prefix": "rm(",
     "library": "var_list.r",
     "varRefreshCmd": "cat(var_dic_list()) "
    }
   },
   "types_to_exclude": [
    "module",
    "function",
    "builtin_function_or_method",
    "instance",
    "_Feature"
   ],
   "window_display": false
  }
 },
 "nbformat": 4,
 "nbformat_minor": 5
}
